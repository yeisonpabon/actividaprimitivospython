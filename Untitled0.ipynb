{
  "nbformat": 4,
  "nbformat_minor": 0,
  "metadata": {
    "colab": {
      "provenance": [],
      "authorship_tag": "ABX9TyPTOaRPRxI9uwc+dhDVz8es",
      "include_colab_link": true
    },
    "kernelspec": {
      "name": "python3",
      "display_name": "Python 3"
    },
    "language_info": {
      "name": "python"
    }
  },
  "cells": [
    {
      "cell_type": "markdown",
      "metadata": {
        "id": "view-in-github",
        "colab_type": "text"
      },
      "source": [
        "<a href=\"https://colab.research.google.com/github/yeisonpabon/actividaprimitivospython/blob/main/Untitled0.ipynb\" target=\"_parent\"><img src=\"https://colab.research.google.com/assets/colab-badge.svg\" alt=\"Open In Colab\"/></a>"
      ]
    },
    {
      "cell_type": "code",
      "execution_count": 17,
      "metadata": {
        "colab": {
          "base_uri": "https://localhost:8080/"
        },
        "id": "JzXFaZAd1y8Y",
        "outputId": "f45f4618-32ed-4df2-c702-260734d8e981"
      },
      "outputs": [
        {
          "output_type": "stream",
          "name": "stdout",
          "text": [
            "curso: LECTURA CRITICA diactado por Diana numero de estudiantes: 2\n",
            " - yeison\n",
            " - andres\n"
          ]
        }
      ],
      "source": [
        "#ejercicio agregacion\n",
        "class Estudiante:\n",
        "  def __init__(self,nombre):\n",
        "    self.nombre = nombre\n",
        "class Curso:\n",
        "    def __init__(self,nombre,profesor_encargado):\n",
        "      self.nombre = nombre\n",
        "      self.profesor_encargado = profesor_encargado\n",
        "      self.estudiantes = []\n",
        "\n",
        "    def agregar_estudiante(self,estudiante):\n",
        "      self.estudiantes.append(estudiante)\n",
        "\n",
        "    def listar_estudiantes(self):\n",
        "      print(f'curso: {self.nombre} diactado por {self.profesor_encargado} numero de estudiantes: {len(self.estudiantes)}')\n",
        "      for estudiante in self.estudiantes:\n",
        "        print (f' - {estudiante.nombre}')\n",
        "\n",
        "estudiante1= Estudiante('yeison')\n",
        "estudiante2 = Estudiante('andres')\n",
        "\n",
        "# crear un curso y agregar estudiantes\n",
        "curso= Curso('LECTURA CRITICA','Diana')\n",
        "curso.agregar_estudiante(estudiante1)\n",
        "curso.agregar_estudiante(estudiante2)\n",
        "curso.listar_estudiantes()"
      ]
    }
  ]
}